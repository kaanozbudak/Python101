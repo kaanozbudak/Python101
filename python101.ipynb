{
  "nbformat": 4,
  "nbformat_minor": 0,
  "metadata": {
    "colab": {
      "name": "dummy",
      "provenance": [],
      "collapsed_sections": [
        "dKZEpcaV5XWd",
        "KccyzwAmtwrF",
        "w2Wl-Wuw7Khq",
        "xg88egnp_7eL",
        "85lFgov2T2WU",
        "wXu6NSu7U4YV",
        "eVVMDXLIXp9D",
        "EOsjC5OuacXb",
        "HikbgS1Ya9gF",
        "_ewXvsYFbiV4",
        "I7j5P9pssw2W"
      ],
      "toc_visible": true,
      "authorship_tag": "ABX9TyO1nJ9OXlEgg7lyCgIHE7RZ",
      "include_colab_link": true
    },
    "kernelspec": {
      "name": "python3",
      "display_name": "Python 3"
    },
    "language_info": {
      "name": "python"
    }
  },
  "cells": [
    {
      "cell_type": "markdown",
      "metadata": {
        "id": "view-in-github",
        "colab_type": "text"
      },
      "source": [
        "<a href=\"https://colab.research.google.com/github/kaanozbudak/Python101/blob/main/python101.ipynb\" target=\"_parent\"><img src=\"https://colab.research.google.com/assets/colab-badge.svg\" alt=\"Open In Colab\"/></a>"
      ]
    },
    {
      "cell_type": "markdown",
      "source": [
        "ÇiçekSepeti - Senior Cloud Data Engineer\n",
        "----\n",
        "#### http://kaanozbudak.com/\n",
        "#### https://linkedin.com/in/kaanozbudak/\n",
        "#### https://kaanozbudak.medium.com/\n",
        "#### https://instagram.com/kaanozbudakcom/\n",
        "#### https://twitter.com/kaanozbudakcom\n",
        "#### https://github.com/kaanozbudak\n",
        "----\n",
        "#### https://github.com/kaanozbudak/Python101"
      ],
      "metadata": {
        "id": "iGel1N44uVrt"
      }
    },
    {
      "cell_type": "markdown",
      "source": [
        "# Data Types\n",
        "Simply DataTypes is a way to represent values in Python. The types listed below are the most commonly used data types in Python.\n",
        "\n",
        "- int (represents numbers)\n",
        "- float (represents decimals)\n",
        "- str (represents text)\n",
        "- bool (represents bool values)\n",
        "- list (list of something)\n",
        "- dict (dictionary)\n",
        "- tuple (store multiple items in a single variable)\n",
        "- set (Duplicate values will be ignored)"
      ],
      "metadata": {
        "id": "dKZEpcaV5XWd"
      }
    },
    {
      "cell_type": "code",
      "source": [
        "num = 10 #int  # declaring variable\n",
        "print(type(num)) # <class 'int'>\n",
        "\n",
        "num = 9.99\n",
        "print(type(num)) # <class 'float>\n",
        "\n",
        "num2 = 1.8\n",
        "\n",
        "expression1 = num * 10\n",
        "print(type(expression1)) # <class 'int'>\n",
        "\n",
        "expression2 = num + num2\n",
        "print(type(expression2)) # <class 'float'>\n",
        "\n",
        "result = 10 + 19.8\n",
        "print(result)\n",
        "print(type(result))"
      ],
      "metadata": {
        "colab": {
          "base_uri": "https://localhost:8080/"
        },
        "id": "Zznyr1FB6C-f",
        "outputId": "2bfef820-72e2-4138-c4c8-c518563a84f6"
      },
      "execution_count": null,
      "outputs": [
        {
          "output_type": "stream",
          "name": "stdout",
          "text": [
            "<class 'int'>\n",
            "<class 'float'>\n",
            "<class 'float'>\n",
            "<class 'float'>\n",
            "29.8\n",
            "<class 'float'>\n"
          ]
        }
      ]
    },
    {
      "cell_type": "code",
      "source": [
        "print(round(2.1)) # 2  returns a floating point number that is a rounded version of the specified number\n",
        "print(round(5.9)) # 6 \n",
        "print(abs(-34)) #   34  returns the absolute value of a number"
      ],
      "metadata": {
        "colab": {
          "base_uri": "https://localhost:8080/"
        },
        "id": "HAeTyGvX6IK2",
        "outputId": "59103d3b-4e19-49f1-dce1-bfe4dc81a8aa"
      },
      "execution_count": null,
      "outputs": [
        {
          "output_type": "stream",
          "name": "stdout",
          "text": [
            "2\n",
            "6\n",
            "34\n"
          ]
        }
      ]
    },
    {
      "cell_type": "code",
      "source": [
        "x = 11 # int\n",
        "\n",
        "print(x+2) # Sum #12 # int\n",
        "print(x-2) # Diff # 8 # int\n",
        "print(x*2) # Multiplication  #20 #int\n",
        "print(x/2) # Division # 5 #int # will result with remainders\n",
        "\n",
        "print(x**2) # Exponential \n",
        "print(x//2) # Divide (without remainder)\n",
        "print(x%2) # Mod (Remainder)"
      ],
      "metadata": {
        "colab": {
          "base_uri": "https://localhost:8080/"
        },
        "id": "WSrVOEFw6gL7",
        "outputId": "092181ed-be15-4bd8-f297-540dd637eb8f"
      },
      "execution_count": null,
      "outputs": [
        {
          "output_type": "stream",
          "name": "stdout",
          "text": [
            "13\n",
            "9\n",
            "22\n",
            "5.5\n",
            "121\n",
            "5\n",
            "1\n"
          ]
        }
      ]
    },
    {
      "cell_type": "markdown",
      "source": [
        "# Casting\n",
        "You can spesicfy data type in python"
      ],
      "metadata": {
        "id": "KccyzwAmtwrF"
      }
    },
    {
      "cell_type": "code",
      "source": [
        "print(5)\n",
        "print(type(5))\n",
        "print(str(5))\n",
        "print(type(str(5)))"
      ],
      "metadata": {
        "colab": {
          "base_uri": "https://localhost:8080/"
        },
        "id": "ot3xHpsftxhR",
        "outputId": "a9620488-c127-4c8a-bea6-026710234e3c"
      },
      "execution_count": 78,
      "outputs": [
        {
          "output_type": "stream",
          "name": "stdout",
          "text": [
            "5\n",
            "<class 'int'>\n",
            "5\n",
            "<class 'str'>\n"
          ]
        }
      ]
    },
    {
      "cell_type": "markdown",
      "source": [
        "# Variables\n",
        "Variables store values. The following are the naming conventions in Python:\n",
        "Variables must begin with a letter (preferably lowercase) or an underscore followed by numbers or an underscore\n",
        "Snake case is the traditional way of writing variable with multiple words like user_name\n",
        "They are case sensitive\n",
        "Keywords should not be overwritten by keywords (Python keywords)"
      ],
      "metadata": {
        "id": "w2Wl-Wuw7Khq"
      }
    },
    {
      "cell_type": "code",
      "source": [
        "name = 'kaan'\n",
        "surname = 'ozbudak'\n",
        "age = 25\n",
        "print(name)\n",
        "print(age)\n",
        "print(name + surname)\n",
        "print(name + \" \" + surname)\n",
        "print(name)\n",
        "print(type(name))\n",
        "print(type(age))"
      ],
      "metadata": {
        "colab": {
          "base_uri": "https://localhost:8080/"
        },
        "id": "TedEmcbR7NuX",
        "outputId": "86fe96c4-906a-4174-d8fc-d3d76e69c593"
      },
      "execution_count": null,
      "outputs": [
        {
          "output_type": "stream",
          "name": "stdout",
          "text": [
            "kaan\n",
            "25\n",
            "kaanozbudak\n",
            "kaan ozbudak\n",
            "kaan\n",
            "<class 'str'>\n",
            "<class 'int'>\n"
          ]
        }
      ]
    },
    {
      "cell_type": "code",
      "source": [
        "pname * age"
      ],
      "metadata": {
        "colab": {
          "base_uri": "https://localhost:8080/",
          "height": 35
        },
        "id": "nB5v1kZY91VN",
        "outputId": "1d656205-8a5f-4477-9ce2-48da671af01c"
      },
      "execution_count": null,
      "outputs": [
        {
          "output_type": "execute_result",
          "data": {
            "text/plain": [
              "'kaankaankaankaankaankaankaankaankaankaankaankaankaankaankaankaankaankaankaankaankaankaankaankaankaan'"
            ],
            "application/vnd.google.colaboratory.intrinsic+json": {
              "type": "string"
            }
          },
          "metadata": {},
          "execution_count": 14
        }
      ]
    },
    {
      "cell_type": "code",
      "source": [
        "title = input(\"give me your title: \")\n",
        "print(\"your title is: \" + title)"
      ],
      "metadata": {
        "colab": {
          "base_uri": "https://localhost:8080/"
        },
        "id": "oE4L-f78-U8X",
        "outputId": "09a4fa1f-204f-4407-db15-c5094823b118"
      },
      "execution_count": null,
      "outputs": [
        {
          "output_type": "stream",
          "name": "stdout",
          "text": [
            "give me your title: dat\n",
            "your title is: dat\n"
          ]
        }
      ]
    },
    {
      "cell_type": "code",
      "source": [
        "print(f\"Your name is {name} and your surname is {surname} and your age is {age}\")"
      ],
      "metadata": {
        "colab": {
          "base_uri": "https://localhost:8080/"
        },
        "id": "fYgcXgXM-bRm",
        "outputId": "52efb50d-0a68-4310-d33c-0640de8cc4b6"
      },
      "execution_count": null,
      "outputs": [
        {
          "output_type": "stream",
          "name": "stdout",
          "text": [
            "Your name is kaan and your surname is ozbudak and your age is 25\n"
          ]
        }
      ]
    },
    {
      "cell_type": "code",
      "source": [
        "title"
      ],
      "metadata": {
        "colab": {
          "base_uri": "https://localhost:8080/",
          "height": 35
        },
        "id": "-DZ_hUsN-19N",
        "outputId": "138ddd69-2252-460b-e834-67ac281e31e2"
      },
      "execution_count": null,
      "outputs": [
        {
          "output_type": "execute_result",
          "data": {
            "text/plain": [
              "'dat'"
            ],
            "application/vnd.google.colaboratory.intrinsic+json": {
              "type": "string"
            }
          },
          "metadata": {},
          "execution_count": 21
        }
      ]
    },
    {
      "cell_type": "code",
      "source": [
        "surname[0]"
      ],
      "metadata": {
        "colab": {
          "base_uri": "https://localhost:8080/",
          "height": 35
        },
        "id": "OYuA0exS-6Ks",
        "outputId": "a0692a3c-8cb8-4522-c392-4fb26ea8541d"
      },
      "execution_count": null,
      "outputs": [
        {
          "output_type": "execute_result",
          "data": {
            "text/plain": [
              "'o'"
            ],
            "application/vnd.google.colaboratory.intrinsic+json": {
              "type": "string"
            }
          },
          "metadata": {},
          "execution_count": 22
        }
      ]
    },
    {
      "cell_type": "code",
      "source": [
        "first_character = surname[0] # indexing starts from 0\n",
        "last_character = surname[-1]\n",
        "print(first_character)\n",
        "print(last_character)\n",
        "print(surname[1:4])\n",
        "print(surname[2:])"
      ],
      "metadata": {
        "colab": {
          "base_uri": "https://localhost:8080/"
        },
        "id": "VXr8JVhz-8Ua",
        "outputId": "14f16609-aab1-4071-a2b7-47218a99aa63"
      },
      "execution_count": null,
      "outputs": [
        {
          "output_type": "stream",
          "name": "stdout",
          "text": [
            "o\n",
            "k\n",
            "zbu\n",
            "budak\n"
          ]
        }
      ]
    },
    {
      "cell_type": "markdown",
      "source": [
        "Booleans stores only True or False values."
      ],
      "metadata": {
        "id": "gFKzDmVm_Wpf"
      }
    },
    {
      "cell_type": "code",
      "source": [
        "status = True\n",
        "approved = False\n",
        "print(status)\n",
        "print(type(approved))\n",
        "\n",
        "print(10 > 8)\n",
        "print(name == surname)\n",
        "\n",
        "password = \"12345\"\n",
        "\n",
        "print(password==\"12345\")\n",
        "\n",
        "print(True and False)\n",
        "print(True and True)"
      ],
      "metadata": {
        "colab": {
          "base_uri": "https://localhost:8080/"
        },
        "id": "s8igMsMa_XM-",
        "outputId": "18eebf74-632f-4449-928e-a434f0166c96"
      },
      "execution_count": null,
      "outputs": [
        {
          "output_type": "stream",
          "name": "stdout",
          "text": [
            "True\n",
            "<class 'bool'>\n",
            "True\n",
            "False\n",
            "True\n",
            "False\n",
            "True\n"
          ]
        }
      ]
    },
    {
      "cell_type": "markdown",
      "source": [
        " # List\n",
        " List is an organized collection of objects. It is also a data structure, meaning a container that organizes data in a certain way for different purposes. They are denoted by []. They can be used to store the same or different types of data together."
      ],
      "metadata": {
        "id": "xg88egnp_7eL"
      }
    },
    {
      "cell_type": "code",
      "source": [
        "fruits = [\"apple\", \"orange\", \"banana\"]\n",
        "\n",
        "names = []\n",
        "print(names)\n",
        "names.append(\"kaan\")\n",
        "print(names)\n",
        "print(len(names))\n",
        "print(names[0]) # first item of list\n",
        "names.append(\"ali\")\n",
        "names.insert(0, \"veli\")\n",
        "print(\"inserted\")\n",
        "print(names)\n",
        "names.pop()\n",
        "print(\"pop item\")\n",
        "print(names)\n",
        "names.remove('kaan')\n",
        "print(\"remove item\")\n",
        "print(names) # ali\n",
        "names.clear()\n",
        "print(\"clear items\")\n",
        "print(names) # []"
      ],
      "metadata": {
        "colab": {
          "base_uri": "https://localhost:8080/"
        },
        "id": "a_B_TlJc_9w_",
        "outputId": "1769e5a6-8d3f-4b4f-ff7c-7d65ad98d468"
      },
      "execution_count": null,
      "outputs": [
        {
          "output_type": "stream",
          "name": "stdout",
          "text": [
            "[]\n",
            "['kaan']\n",
            "1\n",
            "kaan\n",
            "inserted\n",
            "['veli', 'kaan', 'ali']\n",
            "pop item\n",
            "['veli', 'kaan']\n",
            "remove item\n",
            "['veli']\n",
            "clear items\n",
            "[]\n"
          ]
        }
      ]
    },
    {
      "cell_type": "code",
      "source": [
        "random_numbers = [1,2,3,1,3,4,2,5,6]\n",
        "count_two = random_numbers.count('2') # count 2\n",
        "random_numbers.sort()\n",
        "print(random_numbers) # sort numbers\n",
        "random_numbers.reverse()\n",
        "print(random_numbers) # reverse side"
      ],
      "metadata": {
        "id": "8tzDFm3wAJja",
        "colab": {
          "base_uri": "https://localhost:8080/"
        },
        "outputId": "fcda0ebb-19e0-49f8-d397-259e00127649"
      },
      "execution_count": null,
      "outputs": [
        {
          "output_type": "stream",
          "name": "stdout",
          "text": [
            "[1, 1, 2, 2, 3, 3, 4, 5, 6]\n",
            "[6, 5, 4, 3, 3, 2, 2, 1, 1]\n"
          ]
        }
      ]
    },
    {
      "cell_type": "markdown",
      "source": [
        "# Dictionaries\n",
        "Dictionaries are used to store data values in key:value pairs.\n",
        "\n",
        "A dictionary is a collection which is ordered*, changeable and do not allow duplicates.\n"
      ],
      "metadata": {
        "id": "85lFgov2T2WU"
      }
    },
    {
      "cell_type": "code",
      "source": [
        "user = {\n",
        "    \"name\": \"kaan\",\n",
        "    \"surname\": \"ozbudak\",\n",
        "    \"age\": 25,\n",
        "    \"is_student\": True,\n",
        "    \"is_married\": False\n",
        "}\n",
        "\n",
        "print(user['age'])\n",
        "\n",
        "print(user['is_student'])\n",
        "\n",
        "user['title'] = \"Data Engineer\"\n",
        "\n",
        "print(user)\n",
        "\n",
        "user['age'] = user['age'] + 1 \n",
        "\n",
        "print(user)\n",
        "\n",
        "print(user.keys())\n",
        "print(user.values())"
      ],
      "metadata": {
        "colab": {
          "base_uri": "https://localhost:8080/"
        },
        "id": "jtmpK335UALp",
        "outputId": "dcbc6144-80af-47ca-d946-e2a2e82be529"
      },
      "execution_count": null,
      "outputs": [
        {
          "output_type": "stream",
          "name": "stdout",
          "text": [
            "25\n",
            "True\n",
            "{'name': 'kaan', 'surname': 'ozbudak', 'age': 25, 'is_student': True, 'is_married': False, 'title': 'Data Engineer'}\n",
            "{'name': 'kaan', 'surname': 'ozbudak', 'age': 26, 'is_student': True, 'is_married': False, 'title': 'Data Engineer'}\n",
            "dict_keys(['name', 'surname', 'age', 'is_student', 'is_married', 'title'])\n",
            "dict_values(['kaan', 'ozbudak', 26, True, False, 'Data Engineer'])\n"
          ]
        }
      ]
    },
    {
      "cell_type": "markdown",
      "source": [
        "# Conditions\n",
        "Python Conditions and If statements\n",
        "Python supports the usual logical conditions from mathematics:\n",
        "\n",
        "Equals: a == b\n",
        "Not Equals: a != b\n",
        "Less than: a < b\n",
        "Less than or equal to: a <= b\n",
        "Greater than: a > b\n",
        "Greater than or equal to: a >= b"
      ],
      "metadata": {
        "id": "wXu6NSu7U4YV"
      }
    },
    {
      "cell_type": "code",
      "source": [
        "print(user[\"name\"] == \"kaan\") # True\n",
        "\n",
        "print(user[\"age\"] >= 30) # False"
      ],
      "metadata": {
        "colab": {
          "base_uri": "https://localhost:8080/"
        },
        "id": "uKhw7CJHU_se",
        "outputId": "47233dff-01fe-4fe0-897f-5b8d762ef766"
      },
      "execution_count": null,
      "outputs": [
        {
          "output_type": "stream",
          "name": "stdout",
          "text": [
            "True\n",
            "False\n"
          ]
        }
      ]
    },
    {
      "cell_type": "code",
      "source": [
        "if user[\"age\"] >= 18:\n",
        "  print(\"you are old enough\")"
      ],
      "metadata": {
        "colab": {
          "base_uri": "https://localhost:8080/"
        },
        "id": "O4c1a0cYVcZF",
        "outputId": "fbf4cceb-54cf-449f-e847-dd038497bb85"
      },
      "execution_count": null,
      "outputs": [
        {
          "output_type": "stream",
          "name": "stdout",
          "text": [
            "you are old enough\n"
          ]
        }
      ]
    },
    {
      "cell_type": "code",
      "source": [
        "if user[\"age\"] >= 30:\n",
        "  print(\"you are old enough\")\n",
        "else:\n",
        "  print(\"not now!\")"
      ],
      "metadata": {
        "colab": {
          "base_uri": "https://localhost:8080/"
        },
        "id": "imnYWdJzVlmT",
        "outputId": "e9af8b30-2dd3-4c8a-dd1a-ceb827e3d918"
      },
      "execution_count": null,
      "outputs": [
        {
          "output_type": "stream",
          "name": "stdout",
          "text": [
            "not now!\n"
          ]
        }
      ]
    },
    {
      "cell_type": "code",
      "source": [
        "user"
      ],
      "metadata": {
        "colab": {
          "base_uri": "https://localhost:8080/"
        },
        "id": "jSRbOeeVVry3",
        "outputId": "ad918de8-ab7d-47df-a95e-5460dba0542d"
      },
      "execution_count": null,
      "outputs": [
        {
          "output_type": "execute_result",
          "data": {
            "text/plain": [
              "{'age': 26,\n",
              " 'is_married': False,\n",
              " 'is_student': True,\n",
              " 'name': 'kaan',\n",
              " 'surname': 'ozbudak',\n",
              " 'title': 'Data Engineer'}"
            ]
          },
          "metadata": {},
          "execution_count": 16
        }
      ]
    },
    {
      "cell_type": "code",
      "source": [
        "user['email'] = \"kaanozbudak@hotmail.com\"\n",
        "user['password'] = \"12345\""
      ],
      "metadata": {
        "id": "2y-9WsCwVwyy"
      },
      "execution_count": null,
      "outputs": []
    },
    {
      "cell_type": "code",
      "source": [
        "user"
      ],
      "metadata": {
        "colab": {
          "base_uri": "https://localhost:8080/"
        },
        "id": "hNZCAOyKV2pD",
        "outputId": "9e92f324-4ac7-49dd-d7a8-1deb8f359553"
      },
      "execution_count": null,
      "outputs": [
        {
          "output_type": "execute_result",
          "data": {
            "text/plain": [
              "{'age': 26,\n",
              " 'email': 'kaanozbudak@hotmail.com',\n",
              " 'is_married': False,\n",
              " 'is_student': True,\n",
              " 'name': 'kaan',\n",
              " 'password': '12345',\n",
              " 'surname': 'ozbudak',\n",
              " 'title': 'Data Engineer'}"
            ]
          },
          "metadata": {},
          "execution_count": 18
        }
      ]
    },
    {
      "cell_type": "code",
      "source": [
        "print(\"Login Screen\")\n",
        "email_input = input(\"Please enter your email: \")\n",
        "password_input = input(\"Please give your password: \")\n",
        "\n",
        "if (email_input != user['email']) or (password_input != user['password']):\n",
        "  print(\"Email or password wrong\")\n",
        "elif (email_input == user['email']) and (password_input == user['password']):\n",
        "  print(\"Come in, correct auth!\")"
      ],
      "metadata": {
        "colab": {
          "base_uri": "https://localhost:8080/"
        },
        "id": "F-gCT_H8V3LH",
        "outputId": "461aa72f-f834-4fcc-faa9-c202fd1deda9"
      },
      "execution_count": null,
      "outputs": [
        {
          "output_type": "stream",
          "name": "stdout",
          "text": [
            "Login Screen\n",
            "Please enter your email: kaanozbudak@hotmail.com\n",
            "Please give your password: 1234\n",
            "Email or password wrong\n"
          ]
        }
      ]
    },
    {
      "cell_type": "markdown",
      "source": [
        "# Loops \n",
        "loop is used for iterating over a sequence (that is either a list, a tuple, a dictionary, a set, or a string)"
      ],
      "metadata": {
        "id": "eVVMDXLIXp9D"
      }
    },
    {
      "cell_type": "code",
      "source": [
        "random_numbers"
      ],
      "metadata": {
        "colab": {
          "base_uri": "https://localhost:8080/"
        },
        "id": "FbUUIaLEWp2B",
        "outputId": "99e48857-9ad8-496f-9c39-870091403522"
      },
      "execution_count": null,
      "outputs": [
        {
          "output_type": "execute_result",
          "data": {
            "text/plain": [
              "[6, 5, 4, 3, 3, 2, 2, 1, 1]"
            ]
          },
          "metadata": {},
          "execution_count": 22
        }
      ]
    },
    {
      "cell_type": "code",
      "source": [
        "for number in random_numbers:\n",
        "  print(number)"
      ],
      "metadata": {
        "colab": {
          "base_uri": "https://localhost:8080/"
        },
        "id": "IfEtjABaW2bH",
        "outputId": "e766371d-98fe-4778-e7eb-2c1add7f0cfc"
      },
      "execution_count": null,
      "outputs": [
        {
          "output_type": "stream",
          "name": "stdout",
          "text": [
            "6\n",
            "5\n",
            "4\n",
            "3\n",
            "3\n",
            "2\n",
            "2\n",
            "1\n",
            "1\n"
          ]
        }
      ]
    },
    {
      "cell_type": "code",
      "source": [
        "for number in random_numbers:\n",
        "  print(number * 10)"
      ],
      "metadata": {
        "colab": {
          "base_uri": "https://localhost:8080/"
        },
        "id": "GbUQSjl0W8ca",
        "outputId": "5f209a97-c838-40e8-eafa-598b75e48b79"
      },
      "execution_count": null,
      "outputs": [
        {
          "output_type": "stream",
          "name": "stdout",
          "text": [
            "60\n",
            "50\n",
            "40\n",
            "30\n",
            "30\n",
            "20\n",
            "20\n",
            "10\n",
            "10\n"
          ]
        }
      ]
    },
    {
      "cell_type": "code",
      "source": [
        "for letter in \"kaanozbudak\":\n",
        "  print(letter)"
      ],
      "metadata": {
        "colab": {
          "base_uri": "https://localhost:8080/"
        },
        "id": "Ac0TiZdjXAp5",
        "outputId": "fd25130d-6769-416d-b7b3-4b435e056558"
      },
      "execution_count": null,
      "outputs": [
        {
          "output_type": "stream",
          "name": "stdout",
          "text": [
            "k\n",
            "a\n",
            "a\n",
            "n\n",
            "o\n",
            "z\n",
            "b\n",
            "u\n",
            "d\n",
            "a\n",
            "k\n"
          ]
        }
      ]
    },
    {
      "cell_type": "code",
      "source": [
        "user"
      ],
      "metadata": {
        "colab": {
          "base_uri": "https://localhost:8080/"
        },
        "id": "pEsNrZD0XF82",
        "outputId": "714de091-6bcc-4e11-bb02-2aa8f85957fc"
      },
      "execution_count": null,
      "outputs": [
        {
          "output_type": "execute_result",
          "data": {
            "text/plain": [
              "{'age': 26,\n",
              " 'email': 'kaanozbudak@hotmail.com',\n",
              " 'is_married': False,\n",
              " 'is_student': True,\n",
              " 'name': 'kaan',\n",
              " 'password': '12345',\n",
              " 'surname': 'ozbudak',\n",
              " 'title': 'Data Engineer'}"
            ]
          },
          "metadata": {},
          "execution_count": 27
        }
      ]
    },
    {
      "cell_type": "code",
      "source": [
        "for key in user.keys():\n",
        "  print(key)"
      ],
      "metadata": {
        "colab": {
          "base_uri": "https://localhost:8080/"
        },
        "id": "vcv2TgCWXJ68",
        "outputId": "a346c8b5-f825-4010-bc97-74b426798c92"
      },
      "execution_count": null,
      "outputs": [
        {
          "output_type": "stream",
          "name": "stdout",
          "text": [
            "name\n",
            "surname\n",
            "age\n",
            "is_student\n",
            "is_married\n",
            "title\n",
            "email\n",
            "password\n"
          ]
        }
      ]
    },
    {
      "cell_type": "code",
      "source": [
        "for value in user.values():\n",
        "  print(value)"
      ],
      "metadata": {
        "colab": {
          "base_uri": "https://localhost:8080/"
        },
        "id": "BjAtdPEAXMpD",
        "outputId": "64a71da9-9214-4090-c9af-d52a3eba4035"
      },
      "execution_count": null,
      "outputs": [
        {
          "output_type": "stream",
          "name": "stdout",
          "text": [
            "kaan\n",
            "ozbudak\n",
            "26\n",
            "True\n",
            "False\n",
            "Data Engineer\n",
            "kaanozbudak@hotmail.com\n",
            "12345\n"
          ]
        }
      ]
    },
    {
      "cell_type": "code",
      "source": [
        "for key, value in user.items():\n",
        "  print(f\"key: {key}\")\n",
        "  print(f\"value: {value}\")\n",
        "  print(\"-----\")"
      ],
      "metadata": {
        "colab": {
          "base_uri": "https://localhost:8080/"
        },
        "id": "tlhoaTtCXPhd",
        "outputId": "f758527e-ce17-4fde-9408-4e8151d4bd31"
      },
      "execution_count": null,
      "outputs": [
        {
          "output_type": "stream",
          "name": "stdout",
          "text": [
            "key: name\n",
            "value: kaan\n",
            "-----\n",
            "key: surname\n",
            "value: ozbudak\n",
            "-----\n",
            "key: age\n",
            "value: 26\n",
            "-----\n",
            "key: is_student\n",
            "value: True\n",
            "-----\n",
            "key: is_married\n",
            "value: False\n",
            "-----\n",
            "key: title\n",
            "value: Data Engineer\n",
            "-----\n",
            "key: email\n",
            "value: kaanozbudak@hotmail.com\n",
            "-----\n",
            "key: password\n",
            "value: 12345\n",
            "-----\n"
          ]
        }
      ]
    },
    {
      "cell_type": "code",
      "source": [
        "for counter in range(10):\n",
        "  print(counter)"
      ],
      "metadata": {
        "colab": {
          "base_uri": "https://localhost:8080/"
        },
        "id": "S9ADO6EBXWnh",
        "outputId": "583e56bc-20ae-484e-f627-5be85f352c9e"
      },
      "execution_count": null,
      "outputs": [
        {
          "output_type": "stream",
          "name": "stdout",
          "text": [
            "0\n",
            "1\n",
            "2\n",
            "3\n",
            "4\n",
            "5\n",
            "6\n",
            "7\n",
            "8\n",
            "9\n"
          ]
        }
      ]
    },
    {
      "cell_type": "code",
      "source": [
        "numbers_list = (x for x in range(10))\n",
        "\n",
        "numbers_list2 = []\n",
        "\n",
        "for x in range(10):\n",
        "  numbers_list2.append(x)\n",
        "\n",
        "\n",
        "print(list(numbers_list))\n",
        "print(numbers_list2)"
      ],
      "metadata": {
        "colab": {
          "base_uri": "https://localhost:8080/"
        },
        "id": "Qkt2_0yZYBeX",
        "outputId": "05c773c7-152a-4528-ffe0-6642173e91dc"
      },
      "execution_count": null,
      "outputs": [
        {
          "output_type": "stream",
          "name": "stdout",
          "text": [
            "[0, 1, 2, 3, 4, 5, 6, 7, 8, 9]\n",
            "[0, 1, 2, 3, 4, 5, 6, 7, 8, 9]\n"
          ]
        }
      ]
    },
    {
      "cell_type": "code",
      "source": [
        "for number in numbers_list2:\n",
        "  if number % 2 == 1:\n",
        "    print(f\"odd: {number}\")\n",
        "  else:\n",
        "    print(f\"even: {number}\")"
      ],
      "metadata": {
        "colab": {
          "base_uri": "https://localhost:8080/"
        },
        "id": "Yv_eF2nIYQnE",
        "outputId": "86661f67-9d5b-4f35-e000-4063bc72a2cf"
      },
      "execution_count": null,
      "outputs": [
        {
          "output_type": "stream",
          "name": "stdout",
          "text": [
            "even: 0\n",
            "odd: 1\n",
            "even: 2\n",
            "odd: 3\n",
            "even: 4\n",
            "odd: 5\n",
            "even: 6\n",
            "odd: 7\n",
            "even: 8\n",
            "odd: 9\n"
          ]
        }
      ]
    },
    {
      "cell_type": "code",
      "source": [
        "while True:\n",
        "  # print(\"Hello world\")\n",
        "  break"
      ],
      "metadata": {
        "id": "xbqiHUcHXfH_"
      },
      "execution_count": null,
      "outputs": []
    },
    {
      "cell_type": "code",
      "source": [
        "flag = True\n",
        "counter = 0\n",
        "while flag:\n",
        "  print(counter)\n",
        "  counter += 1\n",
        "  if counter == 4:\n",
        "    print(\"SKIP\")\n",
        "  if counter >= 10:\n",
        "    flag = False"
      ],
      "metadata": {
        "colab": {
          "base_uri": "https://localhost:8080/"
        },
        "id": "A5Gij_q0YVwa",
        "outputId": "1ee66ab8-b701-4c17-f061-d8d5e816b0d9"
      },
      "execution_count": null,
      "outputs": [
        {
          "output_type": "stream",
          "name": "stdout",
          "text": [
            "0\n",
            "1\n",
            "2\n",
            "3\n",
            "SKIP\n",
            "4\n",
            "5\n",
            "6\n",
            "7\n",
            "8\n",
            "9\n"
          ]
        }
      ]
    },
    {
      "cell_type": "markdown",
      "source": [
        "# Tuples\n",
        "Tuples are used to store multiple items in a single variable."
      ],
      "metadata": {
        "id": "EOsjC5OuacXb"
      }
    },
    {
      "cell_type": "code",
      "source": [
        "ages = (12, 24, 25, 14)\n",
        "\n",
        "first_age = ages[0]\n",
        "second_age = ages[1]\n",
        "print(f\"first_age: {first_age}\")\n",
        "print(f\"second_age: {second_age}\")"
      ],
      "metadata": {
        "colab": {
          "base_uri": "https://localhost:8080/"
        },
        "id": "mMRaax8qajFQ",
        "outputId": "ee8d06d0-b0c4-49c0-c033-65b3aae2d14c"
      },
      "execution_count": null,
      "outputs": [
        {
          "output_type": "stream",
          "name": "stdout",
          "text": [
            "first_age: 12\n",
            "second_age: 24\n"
          ]
        }
      ]
    },
    {
      "cell_type": "markdown",
      "source": [
        "# Sets\n",
        "Sets are used to store multiple items in a single variable.\n",
        "\n",
        "Sets does not allow duplicate values.\n",
        "\n"
      ],
      "metadata": {
        "id": "HikbgS1Ya9gF"
      }
    },
    {
      "cell_type": "code",
      "source": [
        "set_example = {1,2,2,2,2,3,4,4,5,5,6,6}\n",
        "print(set_example)"
      ],
      "metadata": {
        "colab": {
          "base_uri": "https://localhost:8080/"
        },
        "id": "iupteB5SbDYy",
        "outputId": "046b1705-a755-4494-9f8a-f33691d77b10"
      },
      "execution_count": null,
      "outputs": [
        {
          "output_type": "stream",
          "name": "stdout",
          "text": [
            "{1, 2, 3, 4, 5, 6}\n"
          ]
        }
      ]
    },
    {
      "cell_type": "code",
      "source": [
        "my_list = [1,2,3,3,3,3,3,2,3,4,5]\n",
        "print(my_list)\n",
        "print(set(my_list))"
      ],
      "metadata": {
        "colab": {
          "base_uri": "https://localhost:8080/"
        },
        "id": "f5qA99BYbOkj",
        "outputId": "80ed849d-1d90-4294-be07-e338c295c817"
      },
      "execution_count": null,
      "outputs": [
        {
          "output_type": "stream",
          "name": "stdout",
          "text": [
            "[1, 2, 3, 3, 3, 3, 3, 2, 3, 4, 5]\n",
            "{1, 2, 3, 4, 5}\n"
          ]
        }
      ]
    },
    {
      "cell_type": "markdown",
      "source": [
        "# Functions\n",
        "In Python, a function is a group of related statements that performs a specific task. Functions help break our program into smaller and modular chunks. As our program grows larger and larger, functions make it more organized and \n",
        "manageable. Furthermore, it avoids repetition and makes the code reusable."
      ],
      "metadata": {
        "id": "_ewXvsYFbiV4"
      }
    },
    {
      "cell_type": "code",
      "source": [
        "def get_full_name(name, surname):\n",
        "  return name + \" \" + surname"
      ],
      "metadata": {
        "id": "tyYDQWjsqVIt"
      },
      "execution_count": null,
      "outputs": []
    },
    {
      "cell_type": "code",
      "source": [
        "name = \"kaan\"\n",
        "surname = \"ozbudak\"\n",
        "full_name = get_full_name(name, surname)\n",
        "print(full_name)"
      ],
      "metadata": {
        "colab": {
          "base_uri": "https://localhost:8080/"
        },
        "id": "SYW5zd_9qcf2",
        "outputId": "6676a624-724b-41f5-b8c5-3cf532257a63"
      },
      "execution_count": null,
      "outputs": [
        {
          "output_type": "stream",
          "name": "stdout",
          "text": [
            "kaan ozbudak\n"
          ]
        }
      ]
    },
    {
      "cell_type": "code",
      "source": [
        "names = [\"kaan\", \"eray\", \"batu\"]\n",
        "surnames = [\"ozbudak\", \"surmeli\", \"kargili\"]\n",
        "\n",
        "for i in range(len(names)):\n",
        "  print(i)\n",
        "  print(names[i])\n",
        "  print(surnames[i])\n",
        "  full_name = get_full_name(names[i], surnames[i])\n",
        "  print(f\"full name is {full_name}\")"
      ],
      "metadata": {
        "colab": {
          "base_uri": "https://localhost:8080/"
        },
        "id": "Ek8PuadVqj5d",
        "outputId": "673ecb18-5d36-465f-f5c3-263d64d92b29"
      },
      "execution_count": null,
      "outputs": [
        {
          "output_type": "stream",
          "name": "stdout",
          "text": [
            "0\n",
            "kaan\n",
            "ozbudak\n",
            "full name is kaan ozbudak\n",
            "1\n",
            "eray\n",
            "surmeli\n",
            "full name is eray surmeli\n",
            "2\n",
            "batu\n",
            "kargili\n",
            "full name is batu kargili\n"
          ]
        }
      ]
    },
    {
      "cell_type": "markdown",
      "source": [
        "# Exceptions\n",
        "- Programmer Errors\n",
        "- Program Bugs\n",
        "- Exceptions"
      ],
      "metadata": {
        "id": "I7j5P9pssw2W"
      }
    },
    {
      "cell_type": "code",
      "source": [
        "print(0/0)"
      ],
      "metadata": {
        "colab": {
          "base_uri": "https://localhost:8080/",
          "height": 166
        },
        "id": "pYVwsk0GsxK3",
        "outputId": "c719b9dc-c6db-4cd0-a931-850e31af646f"
      },
      "execution_count": 69,
      "outputs": [
        {
          "output_type": "error",
          "ename": "ZeroDivisionError",
          "evalue": "ignored",
          "traceback": [
            "\u001b[0;31m---------------------------------------------------------------------------\u001b[0m",
            "\u001b[0;31mZeroDivisionError\u001b[0m                         Traceback (most recent call last)",
            "\u001b[0;32m<ipython-input-69-1babb3b33639>\u001b[0m in \u001b[0;36m<module>\u001b[0;34m()\u001b[0m\n\u001b[0;32m----> 1\u001b[0;31m \u001b[0mprint\u001b[0m\u001b[0;34m(\u001b[0m\u001b[0;36m0\u001b[0m\u001b[0;34m/\u001b[0m\u001b[0;36m0\u001b[0m\u001b[0;34m)\u001b[0m\u001b[0;34m\u001b[0m\u001b[0;34m\u001b[0m\u001b[0m\n\u001b[0m",
            "\u001b[0;31mZeroDivisionError\u001b[0m: division by zero"
          ]
        }
      ]
    },
    {
      "cell_type": "code",
      "source": [
        "print(10/\"kaan\")"
      ],
      "metadata": {
        "colab": {
          "base_uri": "https://localhost:8080/",
          "height": 166
        },
        "id": "jJDmRdD_sz_F",
        "outputId": "1c712d66-2c06-4635-8316-1a4d78c513bc"
      },
      "execution_count": 70,
      "outputs": [
        {
          "output_type": "error",
          "ename": "TypeError",
          "evalue": "ignored",
          "traceback": [
            "\u001b[0;31m---------------------------------------------------------------------------\u001b[0m",
            "\u001b[0;31mTypeError\u001b[0m                                 Traceback (most recent call last)",
            "\u001b[0;32m<ipython-input-70-3b448d77b0d4>\u001b[0m in \u001b[0;36m<module>\u001b[0;34m()\u001b[0m\n\u001b[0;32m----> 1\u001b[0;31m \u001b[0mprint\u001b[0m\u001b[0;34m(\u001b[0m\u001b[0;36m10\u001b[0m\u001b[0;34m/\u001b[0m\u001b[0;34m\"kaan.\"\u001b[0m\u001b[0;34m)\u001b[0m\u001b[0;34m\u001b[0m\u001b[0;34m\u001b[0m\u001b[0m\n\u001b[0m",
            "\u001b[0;31mTypeError\u001b[0m: unsupported operand type(s) for /: 'int' and 'str'"
          ]
        }
      ]
    },
    {
      "cell_type": "code",
      "source": [
        "num=\"5\"\n",
        "print(10/num)  "
      ],
      "metadata": {
        "colab": {
          "base_uri": "https://localhost:8080/",
          "height": 166
        },
        "id": "zvcR3YsCs2ua",
        "outputId": "6d70474f-1714-4000-8a1c-9b339930754d"
      },
      "execution_count": 71,
      "outputs": [
        {
          "output_type": "error",
          "ename": "TypeError",
          "evalue": "ignored",
          "traceback": [
            "\u001b[0;31m---------------------------------------------------------------------------\u001b[0m",
            "\u001b[0;31mTypeError\u001b[0m                                 Traceback (most recent call last)",
            "\u001b[0;32m<ipython-input-71-604a75dc4db1>\u001b[0m in \u001b[0;36m<module>\u001b[0;34m()\u001b[0m\n\u001b[0;32m----> 1\u001b[0;31m \u001b[0mprint\u001b[0m\u001b[0;34m(\u001b[0m\u001b[0;36m10\u001b[0m\u001b[0;34m/\u001b[0m\u001b[0;34m\"5\"\u001b[0m\u001b[0;34m)\u001b[0m\u001b[0;34m\u001b[0m\u001b[0;34m\u001b[0m\u001b[0m\n\u001b[0m",
            "\u001b[0;31mTypeError\u001b[0m: unsupported operand type(s) for /: 'int' and 'str'"
          ]
        }
      ]
    },
    {
      "cell_type": "code",
      "source": [
        "try:\n",
        "  num=\"5\"\n",
        "  print(10/num)\n",
        "except Exception as ex:\n",
        "  print(\"You can not divide int by str\")"
      ],
      "metadata": {
        "colab": {
          "base_uri": "https://localhost:8080/"
        },
        "id": "xohbcrLatNH0",
        "outputId": "7c832489-3170-480d-d311-b3561979c67a"
      },
      "execution_count": 74,
      "outputs": [
        {
          "output_type": "stream",
          "name": "stdout",
          "text": [
            "You can not divide int by str\n"
          ]
        }
      ]
    },
    {
      "cell_type": "code",
      "source": [
        "try:\n",
        "  num=\"5\"\n",
        "  print(10/num)\n",
        "except Exception as ex:\n",
        "  num = int(num)\n",
        "  print(10/num)"
      ],
      "metadata": {
        "colab": {
          "base_uri": "https://localhost:8080/"
        },
        "id": "8Z4RLi0EtNZ8",
        "outputId": "5e5cb2ba-02d1-43b7-a9c5-70cb25734250"
      },
      "execution_count": 75,
      "outputs": [
        {
          "output_type": "stream",
          "name": "stdout",
          "text": [
            "2.0\n"
          ]
        }
      ]
    },
    {
      "cell_type": "markdown",
      "source": [
        ""
      ],
      "metadata": {
        "id": "UxOcdqCpwj0H"
      }
    }
  ]
}