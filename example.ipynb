{
  "nbformat": 4,
  "nbformat_minor": 0,
  "metadata": {
    "colab": {
      "name": "example.ipynb",
      "provenance": [],
      "collapsed_sections": [],
      "authorship_tag": "ABX9TyPUc8gUbyVyDdQWwbR+o56P",
      "include_colab_link": true
    },
    "kernelspec": {
      "name": "python3",
      "display_name": "Python 3"
    },
    "language_info": {
      "name": "python"
    }
  },
  "cells": [
    {
      "cell_type": "markdown",
      "metadata": {
        "id": "view-in-github",
        "colab_type": "text"
      },
      "source": [
        "<a href=\"https://colab.research.google.com/github/kaanozbudak/Python101/blob/main/example.ipynb\" target=\"_parent\"><img src=\"https://colab.research.google.com/assets/colab-badge.svg\" alt=\"Open In Colab\"/></a>"
      ]
    },
    {
      "cell_type": "code",
      "execution_count": 16,
      "metadata": {
        "id": "Sb0HvGKBcYtY"
      },
      "outputs": [],
      "source": [
        "basket = []"
      ]
    },
    {
      "cell_type": "code",
      "source": [
        "def check_item(item):\n",
        "  keys = item.keys()\n",
        "  values = item.values()\n",
        "  if \"username\" not in keys or \"price\" not in keys or \"city\" not in keys or \"name\" not in keys:\n",
        "    raise Exception(\"Please put name, username and price and city information to your item!\")\n",
        "  for value in values:\n",
        "    if value == None:\n",
        "      raise Exception(f\"Some value is none, please check your item. {item}\")\n",
        "  return True"
      ],
      "metadata": {
        "id": "Wz6q-cYGcuzB"
      },
      "execution_count": 54,
      "outputs": []
    },
    {
      "cell_type": "code",
      "source": [
        "def create_item(username=None, price=None, city=None, name=None):\n",
        "  return {\n",
        "      \"username\": username,\n",
        "      \"name\": name,\n",
        "      \"price\": price,\n",
        "      \"city\": city\n",
        "  }"
      ],
      "metadata": {
        "id": "6keXnSgBdK55"
      },
      "execution_count": 22,
      "outputs": []
    },
    {
      "cell_type": "code",
      "source": [
        "phone = create_item(username=\"kaan\", price=50, city=\"Aydin\", name=\"phone\")"
      ],
      "metadata": {
        "id": "953xmqdzdMYz"
      },
      "execution_count": 24,
      "outputs": []
    },
    {
      "cell_type": "code",
      "source": [
        "phone"
      ],
      "metadata": {
        "colab": {
          "base_uri": "https://localhost:8080/"
        },
        "id": "yXrVEUuKdpXe",
        "outputId": "bd4c7136-98c4-46d5-c9b9-7060cf4decf6"
      },
      "execution_count": 25,
      "outputs": [
        {
          "output_type": "execute_result",
          "data": {
            "text/plain": [
              "{'city': 'Aydin', 'name': 'phone', 'price': 50, 'username': 'kaan'}"
            ]
          },
          "metadata": {},
          "execution_count": 25
        }
      ]
    },
    {
      "cell_type": "code",
      "source": [
        "def add_to_cart(item):\n",
        "  is_proper = check_item(item)\n",
        "  print(f\"check item returned {is_proper}\")\n",
        "  if is_proper:\n",
        "    basket.append(item)\n",
        "    print(f\"{item['name']} added to basket\")\n",
        "  else:\n",
        "    raise Exception(\"Item is not proper\")"
      ],
      "metadata": {
        "id": "W9hOLVo6d56b"
      },
      "execution_count": 44,
      "outputs": []
    },
    {
      "cell_type": "code",
      "source": [
        "add_to_cart(phone)"
      ],
      "metadata": {
        "colab": {
          "base_uri": "https://localhost:8080/"
        },
        "id": "nCxfkf5keH7N",
        "outputId": "75a278a9-ae43-4c83-9d0c-9a1bd1e2d6a7"
      },
      "execution_count": 33,
      "outputs": [
        {
          "output_type": "stream",
          "name": "stdout",
          "text": [
            "True\n"
          ]
        }
      ]
    },
    {
      "cell_type": "code",
      "source": [
        "watch = create_item(username=\"kaan\", price=50, name=\"watch\")"
      ],
      "metadata": {
        "id": "KOzDCwHyeK2P"
      },
      "execution_count": 27,
      "outputs": []
    },
    {
      "cell_type": "code",
      "source": [
        "watch"
      ],
      "metadata": {
        "colab": {
          "base_uri": "https://localhost:8080/"
        },
        "id": "olVKHq5qeV7e",
        "outputId": "4d0b258c-be43-4629-cb01-b6ce3360f851"
      },
      "execution_count": 34,
      "outputs": [
        {
          "output_type": "execute_result",
          "data": {
            "text/plain": [
              "{'city': None, 'name': 'watch', 'price': 50, 'username': 'kaan'}"
            ]
          },
          "metadata": {},
          "execution_count": 34
        }
      ]
    },
    {
      "cell_type": "code",
      "source": [
        "basket"
      ],
      "metadata": {
        "colab": {
          "base_uri": "https://localhost:8080/"
        },
        "id": "oNH3CyYJe9WG",
        "outputId": "a3a42c91-c6bd-45e2-d9ca-083160b87e86"
      },
      "execution_count": 36,
      "outputs": [
        {
          "output_type": "execute_result",
          "data": {
            "text/plain": [
              "[{'city': 'Aydin', 'name': 'phone', 'price': 50, 'username': 'kaan'}]"
            ]
          },
          "metadata": {},
          "execution_count": 36
        }
      ]
    },
    {
      "cell_type": "code",
      "source": [
        "def get_basket():\n",
        "  print(basket)"
      ],
      "metadata": {
        "id": "DkAuhcDyg-8K"
      },
      "execution_count": 37,
      "outputs": []
    },
    {
      "cell_type": "code",
      "source": [
        "get_basket()"
      ],
      "metadata": {
        "colab": {
          "base_uri": "https://localhost:8080/"
        },
        "id": "eO1B3zQihCLI",
        "outputId": "59002a27-adaf-41da-a10a-a9afffdd69fb"
      },
      "execution_count": 38,
      "outputs": [
        {
          "output_type": "stream",
          "name": "stdout",
          "text": [
            "[{'username': 'kaan', 'name': 'phone', 'price': 50, 'city': 'Aydin'}]\n"
          ]
        }
      ]
    },
    {
      "cell_type": "code",
      "source": [
        "computer = create_item(username=\"batu\", price=150, name=\"computer\", city=\"Istanbul\")"
      ],
      "metadata": {
        "id": "euWNYJUvhDRb"
      },
      "execution_count": 39,
      "outputs": []
    },
    {
      "cell_type": "code",
      "source": [
        "add_to_cart(computer)"
      ],
      "metadata": {
        "colab": {
          "base_uri": "https://localhost:8080/"
        },
        "id": "u5BOCqKDhMgU",
        "outputId": "e4707de4-be16-44ff-e05c-368d201e91f0"
      },
      "execution_count": 45,
      "outputs": [
        {
          "output_type": "stream",
          "name": "stdout",
          "text": [
            "check item returned True\n",
            "computer added to basket\n"
          ]
        }
      ]
    },
    {
      "cell_type": "code",
      "source": [
        "get_basket()"
      ],
      "metadata": {
        "colab": {
          "base_uri": "https://localhost:8080/"
        },
        "id": "pfHpoiR6hOTp",
        "outputId": "7c20a00e-5db6-4971-9ac3-7f531aa478ea"
      },
      "execution_count": 47,
      "outputs": [
        {
          "output_type": "stream",
          "name": "stdout",
          "text": [
            "[{'username': 'kaan', 'name': 'phone', 'price': 50, 'city': 'Aydin'}, {'username': 'batu', 'name': 'computer', 'price': 150, 'city': 'Istanbul'}, {'username': 'batu', 'name': 'computer', 'price': 150, 'city': 'Istanbul'}]\n"
          ]
        }
      ]
    },
    {
      "cell_type": "code",
      "source": [
        "def pop_last_item_from_basket():\n",
        "  last_item = basket.pop()\n",
        "  print(f\"Pop {last_item} is success!\")"
      ],
      "metadata": {
        "id": "MFirUoWXhj1H"
      },
      "execution_count": 48,
      "outputs": []
    },
    {
      "cell_type": "code",
      "source": [
        "pop_last_item_from_basket()"
      ],
      "metadata": {
        "colab": {
          "base_uri": "https://localhost:8080/"
        },
        "id": "wlEXikbLia0L",
        "outputId": "f44a9b5b-19bc-4c0b-ffad-df42da392e32"
      },
      "execution_count": 49,
      "outputs": [
        {
          "output_type": "stream",
          "name": "stdout",
          "text": [
            "Pop {'username': 'batu', 'name': 'computer', 'price': 150, 'city': 'Istanbul'} is success!\n"
          ]
        }
      ]
    },
    {
      "cell_type": "code",
      "source": [
        "basket"
      ],
      "metadata": {
        "colab": {
          "base_uri": "https://localhost:8080/"
        },
        "id": "nTZMUi7HicCd",
        "outputId": "bbd8d895-dfa8-4863-9dfe-baa3c9a1f66f"
      },
      "execution_count": 50,
      "outputs": [
        {
          "output_type": "execute_result",
          "data": {
            "text/plain": [
              "[{'city': 'Aydin', 'name': 'phone', 'price': 50, 'username': 'kaan'},\n",
              " {'city': 'Istanbul', 'name': 'computer', 'price': 150, 'username': 'batu'}]"
            ]
          },
          "metadata": {},
          "execution_count": 50
        }
      ]
    },
    {
      "cell_type": "code",
      "source": [
        "def get_total_price():\n",
        "  total_sum = 0\n",
        "  for item in basket:\n",
        "    total_sum += item['price']\n",
        "  print(f\"Total sum is: {total_sum}\")\n",
        "  return total_sum"
      ],
      "metadata": {
        "id": "DPrFXn3EidV2"
      },
      "execution_count": 52,
      "outputs": []
    },
    {
      "cell_type": "code",
      "source": [
        "get_total_price()"
      ],
      "metadata": {
        "colab": {
          "base_uri": "https://localhost:8080/"
        },
        "id": "XNSsNh6yinEb",
        "outputId": "844d95e3-a738-44f8-f829-40f4fff28116"
      },
      "execution_count": 53,
      "outputs": [
        {
          "output_type": "stream",
          "name": "stdout",
          "text": [
            "Total sum is: 200\n"
          ]
        },
        {
          "output_type": "execute_result",
          "data": {
            "text/plain": [
              "200"
            ]
          },
          "metadata": {},
          "execution_count": 53
        }
      ]
    },
    {
      "cell_type": "code",
      "source": [
        "def get_all_cities():\n",
        "  cities = []\n",
        "  for item in basket:\n",
        "    cities.append(item['city'])\n",
        "  return set(cities)"
      ],
      "metadata": {
        "id": "yEhFAa5rirk-"
      },
      "execution_count": 55,
      "outputs": []
    },
    {
      "cell_type": "code",
      "source": [
        "get_all_cities()"
      ],
      "metadata": {
        "colab": {
          "base_uri": "https://localhost:8080/"
        },
        "id": "KuF5eA3HjVN6",
        "outputId": "9f74873c-feba-4264-a455-cb3f1b952402"
      },
      "execution_count": 56,
      "outputs": [
        {
          "output_type": "execute_result",
          "data": {
            "text/plain": [
              "{'Aydin', 'Istanbul'}"
            ]
          },
          "metadata": {},
          "execution_count": 56
        }
      ]
    },
    {
      "cell_type": "code",
      "source": [
        "bottle = create_item(username=\"ali\", city=\"Istanbul\", name=\"bottle\", price=30)"
      ],
      "metadata": {
        "id": "mFQxSByEjWEw"
      },
      "execution_count": 58,
      "outputs": []
    },
    {
      "cell_type": "code",
      "source": [
        "add_to_cart(bottle)"
      ],
      "metadata": {
        "colab": {
          "base_uri": "https://localhost:8080/"
        },
        "id": "yptsXbB5jjor",
        "outputId": "276a894f-5d9b-4b5a-f7ce-1ecf03ec9b08"
      },
      "execution_count": 59,
      "outputs": [
        {
          "output_type": "stream",
          "name": "stdout",
          "text": [
            "check item returned True\n",
            "bottle added to basket\n"
          ]
        }
      ]
    },
    {
      "cell_type": "code",
      "source": [
        "basket"
      ],
      "metadata": {
        "colab": {
          "base_uri": "https://localhost:8080/"
        },
        "id": "zsGJBTcFjpAB",
        "outputId": "af6e9c57-771d-4e1c-cc24-f6ce3963d816"
      },
      "execution_count": 60,
      "outputs": [
        {
          "output_type": "execute_result",
          "data": {
            "text/plain": [
              "[{'city': 'Aydin', 'name': 'phone', 'price': 50, 'username': 'kaan'},\n",
              " {'city': 'Istanbul', 'name': 'computer', 'price': 150, 'username': 'batu'},\n",
              " {'city': 'Istanbul', 'name': 'bottle', 'price': 30, 'username': 'ali'}]"
            ]
          },
          "metadata": {},
          "execution_count": 60
        }
      ]
    },
    {
      "cell_type": "code",
      "source": [
        "get_all_cities()"
      ],
      "metadata": {
        "colab": {
          "base_uri": "https://localhost:8080/"
        },
        "id": "M8UDTjLTjp60",
        "outputId": "45948830-7b9a-4163-fd37-74f79f5d355d"
      },
      "execution_count": 61,
      "outputs": [
        {
          "output_type": "execute_result",
          "data": {
            "text/plain": [
              "{'Aydin', 'Istanbul'}"
            ]
          },
          "metadata": {},
          "execution_count": 61
        }
      ]
    },
    {
      "cell_type": "code",
      "source": [
        "get_total_price()"
      ],
      "metadata": {
        "colab": {
          "base_uri": "https://localhost:8080/"
        },
        "id": "NM_SHt3yjrd6",
        "outputId": "b53cd669-ceef-4837-a674-03e53081b626"
      },
      "execution_count": 62,
      "outputs": [
        {
          "output_type": "stream",
          "name": "stdout",
          "text": [
            "Total sum is: 230\n"
          ]
        },
        {
          "output_type": "execute_result",
          "data": {
            "text/plain": [
              "230"
            ]
          },
          "metadata": {},
          "execution_count": 62
        }
      ]
    },
    {
      "cell_type": "code",
      "source": [
        ""
      ],
      "metadata": {
        "id": "D4yEvL_Ujz5S"
      },
      "execution_count": null,
      "outputs": []
    }
  ]
}